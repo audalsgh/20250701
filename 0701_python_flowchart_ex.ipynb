{
  "nbformat": 4,
  "nbformat_minor": 0,
  "metadata": {
    "colab": {
      "provenance": [],
      "authorship_tag": "ABX9TyO0xZUD/UQrSamK7KRBhBLN",
      "include_colab_link": true
    },
    "kernelspec": {
      "name": "python3",
      "display_name": "Python 3"
    },
    "language_info": {
      "name": "python"
    }
  },
  "cells": [
    {
      "cell_type": "markdown",
      "metadata": {
        "id": "view-in-github",
        "colab_type": "text"
      },
      "source": [
        "<a href=\"https://colab.research.google.com/github/audalsgh/20250701/blob/main/0701_python_flowchart_ex.ipynb\" target=\"_parent\"><img src=\"https://colab.research.google.com/assets/colab-badge.svg\" alt=\"Open In Colab\"/></a>"
      ]
    },
    {
      "cell_type": "markdown",
      "source": [
        "문제1. 센서 초기화 함수"
      ],
      "metadata": {
        "id": "zn5gKJ1YhE74"
      }
    },
    {
      "cell_type": "code",
      "execution_count": 251,
      "metadata": {
        "colab": {
          "base_uri": "https://localhost:8080/"
        },
        "id": "jesTo3gISlMf",
        "outputId": "83af597a-0bf2-4828-dc95-b6dc21dfdff5"
      },
      "outputs": [
        {
          "output_type": "stream",
          "name": "stdout",
          "text": [
            "센서 초기화 함수 실행\n",
            "{'앞': 15.0, '왼쪽': 15.0, '오른쪽': 15.0} \n",
            "\n"
          ]
        },
        {
          "output_type": "execute_result",
          "data": {
            "text/plain": [
              "{'앞': 15.0, '왼쪽': 15.0, '오른쪽': 15.0}"
            ]
          },
          "metadata": {},
          "execution_count": 251
        }
      ],
      "source": [
        "def init_sensors():\n",
        "  sensors = { '앞' : 15.0, '왼쪽' : 15.0, '오른쪽' : 15.0 }\n",
        "  print(\"센서 초기화 함수 실행\")\n",
        "  print(sensors, \"\\n\")\n",
        "  return sensors\n",
        "\n",
        "init_sensors()"
      ]
    },
    {
      "cell_type": "markdown",
      "source": [
        "문제2. 앞쪽 장애물 스캔 함수"
      ],
      "metadata": {
        "id": "bUC4LsEAhG6a"
      }
    },
    {
      "cell_type": "code",
      "source": [
        "# 장애물은 y좌표만 달라진다고 가정\n",
        "obstacles = [ {'x':0, 'y':0, 'type':'벽'},\n",
        "              {'x':0, 'y':1, 'type':'사람'},\n",
        "              {'x':0, 'y':2, 'type':'상자'} ]\n",
        "\n",
        "sensors = { '앞' : 15.0, '왼쪽' : 15.0, '오른쪽' : 15.0 }\n",
        "\n",
        "def scan_front(x,y,obstacles,sensors):\n",
        "  print(\"2-04 : 앞쪽 장애물 검사 시작\")\n",
        "\n",
        "  # 리스트안의 딕셔너리를 다시 리스트로 꺼내오고, 딕셔너리끼리 좌표비교함.\n",
        "  if  {'y':y+1} in [{'y':o['y']} for o in obstacles]:\n",
        "    print(f\"2-06 : {x,y+1} 1칸 앞쪽 장애물 발견\")\n",
        "    sensors['앞'] = 1.0\n",
        "  elif {'y':y+2} in [{'y':o['y']} for o in obstacles]:\n",
        "    print(f\"2-10 : {x,y+2} 2칸 앞쪽 장애물 발견\")\n",
        "    sensors['앞'] = 2.0\n",
        "  elif {'y':y+3} in [{'y':o['y']} for o in obstacles]:\n",
        "    print(f\"2-13 : {x,y+3} 3칸 앞쪽 장애물 발견\")\n",
        "    sensors['앞'] = 3.0\n",
        "  else:\n",
        "    print(\"2-15 : 앞쪽 장애물 없음\")\n",
        "    sensors['앞'] = 15.0\n",
        "\n",
        "  print(f\"2-16 : 앞쪽 스캔 완료, 센서값 {sensors['앞']}\\n\")\n",
        "\n",
        "scan_front(0,0,obstacles,sensors)"
      ],
      "metadata": {
        "colab": {
          "base_uri": "https://localhost:8080/"
        },
        "id": "D1pGRpUUYjn5",
        "outputId": "6d2219b5-710e-4963-fd9d-18f06fd8f9f4"
      },
      "execution_count": 252,
      "outputs": [
        {
          "output_type": "stream",
          "name": "stdout",
          "text": [
            "2-04 : 앞쪽 장애물 검사 시작\n",
            "2-06 : (0, 1) 1칸 앞쪽 장애물 발견\n",
            "2-16 : 앞쪽 스캔 완료, 센서값 1.0\n",
            "\n"
          ]
        }
      ]
    },
    {
      "cell_type": "markdown",
      "source": [
        "문제3. 왼쪽 장애물 스캔 함수\n"
      ],
      "metadata": {
        "id": "KCzgoyD9hN1m"
      }
    },
    {
      "cell_type": "code",
      "source": [
        "#장애물은 x좌표만 달라진다고 가정\n",
        "obstacles = [ {'x':-1, 'y':0, 'type':'벽'},\n",
        "              {'x':-2, 'y':0, 'type':'사람'},\n",
        "              {'x':-3, 'y':0, 'type':'상자'} ]\n",
        "\n",
        "sensors = { '앞' : 15.0, '왼쪽' : 15.0, '오른쪽' : 15.0 }\n",
        "\n",
        "def scan_left(x,y,obstacles,sensors):\n",
        "  print(\"3-4 : 왼쪽 장애물 검사 시작\")\n",
        "\n",
        "  # 리스트안의 딕셔너리를 다시 리스트로 꺼내오고, 딕셔너리끼리 좌표비교함.\n",
        "  if {'x':x-1} in [{'x':o['x']} for o in obstacles]:\n",
        "    print(f\"3-7 : {x-1,y} 1칸 왼쪽 장애물 발견\")\n",
        "    sensors['왼쪽'] = 1.0\n",
        "  elif {'x':x-2} in [{'x':o['x']} for o in obstacles]:\n",
        "    print(f\"3-10 : {x-2,y} 2칸 왼쪽 장애물 발견\")\n",
        "    sensors['왼쪽'] = 2.0\n",
        "  elif {'x':x-3} in [{'x':o['x']} for o in obstacles]:\n",
        "    print(f\"3-13 : {x-3,y} 3칸 왼쪽 장애물 발견\")\n",
        "    sensors['왼쪽'] = 3.0\n",
        "  else:\n",
        "    print(\"3-15 : 왼쪽 장애물 없음\")\n",
        "    sensors['왼쪽'] = 15.0\n",
        "\n",
        "  print(f\"44 : 왼쪽 스캔 완료, 센서값 {sensors['왼쪽']}\\n\")\n",
        "\n",
        "scan_left(0,0,obstacles,sensors)"
      ],
      "metadata": {
        "colab": {
          "base_uri": "https://localhost:8080/"
        },
        "id": "-FLfQdVAfp45",
        "outputId": "a1155af8-aee3-4b14-c454-122822b17299"
      },
      "execution_count": 253,
      "outputs": [
        {
          "output_type": "stream",
          "name": "stdout",
          "text": [
            "3-4 : 왼쪽 장애물 검사 시작\n",
            "3-7 : (-1, 0) 1칸 왼쪽 장애물 발견\n",
            "44 : 왼쪽 스캔 완료, 센서값 1.0\n",
            "\n"
          ]
        }
      ]
    },
    {
      "cell_type": "markdown",
      "source": [
        "문제4. 오른쪽 장애물 스캔 함수"
      ],
      "metadata": {
        "id": "GMHxsbzKm6Zh"
      }
    },
    {
      "cell_type": "code",
      "source": [
        "#장애물은 x좌표만 달라진다고 가정\n",
        "obstacles = [ {'x':2, 'y':0, 'type':'벽'},\n",
        "              {'x':3, 'y':0, 'type':'사람'},\n",
        "              {'x':4, 'y':0, 'type':'상자'} ]\n",
        "\n",
        "sensors = { '앞' : 15.0, '왼쪽' : 15.0, '오른쪽' : 15.0 }\n",
        "\n",
        "def scan_right(x,y,obstacles,sensors):\n",
        "  print(\"4-4 : 오른쪽 장애물 검사 시작\")\n",
        "\n",
        "  # 리스트안의 딕셔너리를 다시 리스트로 꺼내오고, 딕셔너리끼리 좌표비교함.\n",
        "  if {'x': x+1} in [{'x': o['x']} for o in obstacles]:\n",
        "    print(f\"4-7 : {x+1,y} 1칸 오른쪽 장애물 발견\")\n",
        "    sensors['오른쪽'] = 1.0\n",
        "  elif {'x':x+2} in [{'x':o['x']} for o in obstacles]:\n",
        "    print(f\"4-10 : {x+2,y} 2칸 오른쪽 장애물 발견\")\n",
        "    sensors['오른쪽'] = 2.0\n",
        "  elif {'x':x+3} in [{'x':o['x']} for o in obstacles]:\n",
        "    print(f\"4-13 : {x+3,y} 3칸 오른쪽 장애물 발견\")\n",
        "    sensors['오른쪽'] = 3.0\n",
        "  else:\n",
        "    print(\"4-15 : 오른쪽 장애물 없음\")\n",
        "    sensors['오른쪽'] = 15.0\n",
        "\n",
        "  print(f\"44 : 오른쪽 스캔 완료, 센서값 {sensors['오른쪽']}\\n\")\n",
        "\n",
        "scan_right(0,0,obstacles,sensors)"
      ],
      "metadata": {
        "colab": {
          "base_uri": "https://localhost:8080/"
        },
        "id": "erS6oKwDm9Nd",
        "outputId": "da5c00c9-8460-4571-d603-6d3f152253ba"
      },
      "execution_count": 254,
      "outputs": [
        {
          "output_type": "stream",
          "name": "stdout",
          "text": [
            "4-4 : 오른쪽 장애물 검사 시작\n",
            "4-10 : (2, 0) 2칸 오른쪽 장애물 발견\n",
            "44 : 오른쪽 스캔 완료, 센서값 2.0\n",
            "\n"
          ]
        }
      ]
    },
    {
      "cell_type": "markdown",
      "source": [
        "문제5. 앞서 정의한 함수들을 통해, 센서 데이터를 업데이트하는 함수"
      ],
      "metadata": {
        "id": "WXXrBu45o-Iw"
      }
    },
    {
      "cell_type": "code",
      "source": [
        "position = {'x':0, 'y':0 }\n",
        "\n",
        "obstacles = [ {'x':0, 'y':5, 'type':'벽'},\n",
        "              {'x':3, 'y':3, 'type':'사람'},\n",
        "              {'x':-1, 'y':2, 'type':'상자'} ]\n",
        "\n",
        "def update_sensor_data(position, obstacles):\n",
        "  print(f\"\\n5-4 : 함수 시작\")\n",
        "\n",
        "  x = position['x']\n",
        "  y = position['y']\n",
        "  print(f\"5-6 : 위치 추출 완료\")\n",
        "  print(f\"5-7 : 현재 x,y값 {x,y}\\n\")\n",
        "\n",
        "  sensors = init_sensors()\n",
        "  scan_front(x,y,obstacles,sensors)\n",
        "  scan_left(x,y,obstacles,sensors)\n",
        "  scan_right(x,y,obstacles,sensors)\n",
        "\n",
        "  print(\"5-17 : 센서 업데이트 완료\\n\")\n",
        "  return sensors\n",
        "\n",
        "sensors = update_sensor_data(position, obstacles)"
      ],
      "metadata": {
        "colab": {
          "base_uri": "https://localhost:8080/"
        },
        "id": "5GesTkdfo9pq",
        "outputId": "6abacc35-dd55-4657-c5f0-4e7bbc8ac56e"
      },
      "execution_count": 255,
      "outputs": [
        {
          "output_type": "stream",
          "name": "stdout",
          "text": [
            "\n",
            "5-4 : 함수 시작\n",
            "5-6 : 위치 추출 완료\n",
            "5-7 : 현재 x,y값 (0, 0)\n",
            "\n",
            "센서 초기화 함수 실행\n",
            "{'앞': 15.0, '왼쪽': 15.0, '오른쪽': 15.0} \n",
            "\n",
            "2-04 : 앞쪽 장애물 검사 시작\n",
            "2-10 : (0, 2) 2칸 앞쪽 장애물 발견\n",
            "2-16 : 앞쪽 스캔 완료, 센서값 2.0\n",
            "\n",
            "3-4 : 왼쪽 장애물 검사 시작\n",
            "3-7 : (-1, 0) 1칸 왼쪽 장애물 발견\n",
            "44 : 왼쪽 스캔 완료, 센서값 1.0\n",
            "\n",
            "4-4 : 오른쪽 장애물 검사 시작\n",
            "4-13 : (3, 0) 3칸 오른쪽 장애물 발견\n",
            "44 : 오른쪽 스캔 완료, 센서값 3.0\n",
            "\n",
            "5-17 : 센서 업데이트 완료\n",
            "\n"
          ]
        }
      ]
    },
    {
      "cell_type": "markdown",
      "source": [
        "문제6. 장애물이 안전거리에 있는지 검사하는 함수\n"
      ],
      "metadata": {
        "id": "Q8I78GWZyLXg"
      }
    },
    {
      "cell_type": "code",
      "source": [
        "def detect_obstacles(sensors, safe_distance):\n",
        "  print(\"6-4 : 안전거리안에 장애물이 있는 검사하는 함수 실행\")\n",
        "  print(f\"6-5 : 현재 센서 데이터 {sensors}, 설정되있는 안전거리 = {safe_distance}\\n\")\n",
        "\n",
        "  obstacles = []\n",
        "  for direction, distance in sensors.items():\n",
        "    print(\"6-9 : 현재 방향과 거리 체크\")\n",
        "    if distance < safe_distance:\n",
        "      obstacles.append(direction)\n",
        "      print(\"6-12 : 위험! 목록에 추가\\n\")\n",
        "    else:\n",
        "      print(\"6-14 : 안전\\n\")\n",
        "\n",
        "  print(\"6-16 : 장애물 감지 완료\\n\")\n",
        "  return obstacles\n",
        "\n",
        "obstacles = detect_obstacles(sensors,10)\n",
        "print(obstacles)"
      ],
      "metadata": {
        "colab": {
          "base_uri": "https://localhost:8080/"
        },
        "id": "poBCiErJyUds",
        "outputId": "4770509c-f994-4d4d-9eb5-39ed968a2fc8"
      },
      "execution_count": 256,
      "outputs": [
        {
          "output_type": "stream",
          "name": "stdout",
          "text": [
            "6-4 : 안전거리안에 장애물이 있는 검사하는 함수 실행\n",
            "6-5 : 현재 센서 데이터 {'앞': 2.0, '왼쪽': 1.0, '오른쪽': 3.0}, 설정되있는 안전거리 = 10\n",
            "\n",
            "6-9 : 현재 방향과 거리 체크\n",
            "6-12 : 위험! 목록에 추가\n",
            "\n",
            "6-9 : 현재 방향과 거리 체크\n",
            "6-12 : 위험! 목록에 추가\n",
            "\n",
            "6-9 : 현재 방향과 거리 체크\n",
            "6-12 : 위험! 목록에 추가\n",
            "\n",
            "6-16 : 장애물 감지 완료\n",
            "\n",
            "['앞', '왼쪽', '오른쪽']\n"
          ]
        }
      ]
    },
    {
      "cell_type": "markdown",
      "source": [
        "문제7. 장애물 정보를 입력받아 직진,우회전,좌회전을 결정하는 함수"
      ],
      "metadata": {
        "id": "HUNgyTfE2JGN"
      }
    },
    {
      "cell_type": "code",
      "source": [
        "def decide_action(obstacles):\n",
        "  if len(obstacles) == 0:\n",
        "    action = '직진'\n",
        "    print(\"장애물 없음\")\n",
        "  elif ('앞' not in obstacles):\n",
        "    action = '주의해서 직진'\n",
        "    print(\"앞은 안전, 옆만 위험\")\n",
        "    print('-'*30)\n",
        "  elif ('앞' in obstacles):\n",
        "    print(\"앞에 장애물 있음, 좌우 확인\")\n",
        "    if ('왼쪽' not in obstacles):\n",
        "      action = '좌회전'\n",
        "      print(\"왼쪽 안전\")\n",
        "    elif ('오른쪽' not in obstacles):\n",
        "      action = '우회전'\n",
        "      print(\"오른쪽 안전\")\n",
        "    else:\n",
        "      action = '정지'\n",
        "      print(\"모든 방향 위험\")\n",
        "\n",
        "  return action\n",
        "\n",
        "action = decide_action(obstacles)"
      ],
      "metadata": {
        "colab": {
          "base_uri": "https://localhost:8080/"
        },
        "id": "l2_FR-E42PBb",
        "outputId": "fe081368-d407-4bca-81a2-4e6af2f1594b"
      },
      "execution_count": 257,
      "outputs": [
        {
          "output_type": "stream",
          "name": "stdout",
          "text": [
            "앞에 장애물 있음, 좌우 확인\n",
            "모든 방향 위험\n"
          ]
        }
      ]
    },
    {
      "cell_type": "markdown",
      "source": [
        "문제8. 클래스로 초기화, 행동결정까지 하고 시뮬레이션해보는 문제. while문 반복마다 차량위치가 실제로 변하므로, 장애물 위치를 매번 다르게 준다\n"
      ],
      "metadata": {
        "id": "5J8oqDNC4GuS"
      }
    },
    {
      "cell_type": "code",
      "source": [
        "class SimpleCar():\n",
        "  def __init__(self,name,x,y,safe_distance):\n",
        "    self.name = name\n",
        "    self.x = x\n",
        "    self.y = y\n",
        "    self.safe_distance = safe_distance\n",
        "    self.obstacles = []\n",
        "\n",
        "  def excute_action(self, action):\n",
        "    if action == '직진':\n",
        "      self.y += 1\n",
        "      print(f\"\\naction : 직진, {self.x, self.y}\")\n",
        "      print('-'*30)\n",
        "    elif action == '좌회전':\n",
        "      self.x -= 1\n",
        "      print(f\"\\naction : 좌회전, {self.x, self.y}\")\n",
        "      print('-'*30)\n",
        "    elif action == '우회전':\n",
        "      self.x += 1\n",
        "      print(f\"\\naction : 우회전, {self.x, self.y}\")\n",
        "      print('-'*30)\n",
        "    elif action == '정지':\n",
        "      print(\"\\naction : 현재 위치 유지\")\n",
        "      print('-'*30)\n",
        "\n",
        "  def run_simulator(self, obstacles):\n",
        "    i = 1\n",
        "    while(i):\n",
        "      # 장애물 리스트를 딕셔너리 형태로 입력받기\n",
        "      obstacles = []\n",
        "      print(\"장애물 정보를 입력하세요 (예: x좌표 y좌표 벽): \")\n",
        "      for j in range(3):\n",
        "        raw = input(f\"{i+1}번 장애물 (x y type): \").split()\n",
        "        x, y, typ = int(raw[0]), int(raw[1]), raw[2]\n",
        "        obstacles.append({'x': x, 'y': y, 'type': typ})\n",
        "        self.obstacles = obstacles\n",
        "\n",
        "      # 함수들을 호출하여 행동 결정까지 한번에 진행\n",
        "      position = {'x':self.x, 'y':self.y}\n",
        "      sensors = update_sensor_data(position, self.obstacles)\n",
        "      new_obstacles = detect_obstacles(sensors, self.safe_distance)\n",
        "      action = decide_action(new_obstacles)\n",
        "      self.excute_action(action)\n",
        "      i += 1\n",
        "      if i == 4:\n",
        "        break\n",
        "\n",
        "car1 = SimpleCar('porsche',0,0,10)\n",
        "car1.run_simulator(obstacles)"
      ],
      "metadata": {
        "colab": {
          "base_uri": "https://localhost:8080/"
        },
        "id": "91dWRLoM4QQV",
        "outputId": "768cefb6-b9cc-49ab-bfbc-530ed1aa5e7d"
      },
      "execution_count": 258,
      "outputs": [
        {
          "output_type": "stream",
          "name": "stdout",
          "text": [
            "장애물 정보를 입력하세요 (예: x좌표 y좌표 벽): \n",
            "2번 장애물 (x y type): -2 0 벽\n",
            "2번 장애물 (x y type): 0 1 벽\n",
            "2번 장애물 (x y type): 0 0 벽\n",
            "\n",
            "5-4 : 함수 시작\n",
            "5-6 : 위치 추출 완료\n",
            "5-7 : 현재 x,y값 (0, 0)\n",
            "\n",
            "센서 초기화 함수 실행\n",
            "{'앞': 15.0, '왼쪽': 15.0, '오른쪽': 15.0} \n",
            "\n",
            "2-04 : 앞쪽 장애물 검사 시작\n",
            "2-06 : (0, 1) 1칸 앞쪽 장애물 발견\n",
            "2-16 : 앞쪽 스캔 완료, 센서값 1.0\n",
            "\n",
            "3-4 : 왼쪽 장애물 검사 시작\n",
            "3-10 : (-2, 0) 2칸 왼쪽 장애물 발견\n",
            "44 : 왼쪽 스캔 완료, 센서값 2.0\n",
            "\n",
            "4-4 : 오른쪽 장애물 검사 시작\n",
            "4-15 : 오른쪽 장애물 없음\n",
            "44 : 오른쪽 스캔 완료, 센서값 15.0\n",
            "\n",
            "5-17 : 센서 업데이트 완료\n",
            "\n",
            "6-4 : 안전거리안에 장애물이 있는 검사하는 함수 실행\n",
            "6-5 : 현재 센서 데이터 {'앞': 1.0, '왼쪽': 2.0, '오른쪽': 15.0}, 설정되있는 안전거리 = 10\n",
            "\n",
            "6-9 : 현재 방향과 거리 체크\n",
            "6-12 : 위험! 목록에 추가\n",
            "\n",
            "6-9 : 현재 방향과 거리 체크\n",
            "6-12 : 위험! 목록에 추가\n",
            "\n",
            "6-9 : 현재 방향과 거리 체크\n",
            "6-14 : 안전\n",
            "\n",
            "6-16 : 장애물 감지 완료\n",
            "\n",
            "앞에 장애물 있음, 좌우 확인\n",
            "오른쪽 안전\n",
            "\n",
            "action : 우회전, (1, 0)\n",
            "------------------------------\n",
            "장애물 정보를 입력하세요 (예: x좌표 y좌표 벽): \n",
            "3번 장애물 (x y type): 3 0 벽\n",
            "3번 장애물 (x y type): 0 0 벽\n",
            "3번 장애물 (x y type): 0 0 벽\n",
            "\n",
            "5-4 : 함수 시작\n",
            "5-6 : 위치 추출 완료\n",
            "5-7 : 현재 x,y값 (1, 0)\n",
            "\n",
            "센서 초기화 함수 실행\n",
            "{'앞': 15.0, '왼쪽': 15.0, '오른쪽': 15.0} \n",
            "\n",
            "2-04 : 앞쪽 장애물 검사 시작\n",
            "2-15 : 앞쪽 장애물 없음\n",
            "2-16 : 앞쪽 스캔 완료, 센서값 15.0\n",
            "\n",
            "3-4 : 왼쪽 장애물 검사 시작\n",
            "3-7 : (0, 0) 1칸 왼쪽 장애물 발견\n",
            "44 : 왼쪽 스캔 완료, 센서값 1.0\n",
            "\n",
            "4-4 : 오른쪽 장애물 검사 시작\n",
            "4-10 : (3, 0) 2칸 오른쪽 장애물 발견\n",
            "44 : 오른쪽 스캔 완료, 센서값 2.0\n",
            "\n",
            "5-17 : 센서 업데이트 완료\n",
            "\n",
            "6-4 : 안전거리안에 장애물이 있는 검사하는 함수 실행\n",
            "6-5 : 현재 센서 데이터 {'앞': 15.0, '왼쪽': 1.0, '오른쪽': 2.0}, 설정되있는 안전거리 = 10\n",
            "\n",
            "6-9 : 현재 방향과 거리 체크\n",
            "6-14 : 안전\n",
            "\n",
            "6-9 : 현재 방향과 거리 체크\n",
            "6-12 : 위험! 목록에 추가\n",
            "\n",
            "6-9 : 현재 방향과 거리 체크\n",
            "6-12 : 위험! 목록에 추가\n",
            "\n",
            "6-16 : 장애물 감지 완료\n",
            "\n",
            "앞은 안전, 옆만 위험\n",
            "------------------------------\n",
            "장애물 정보를 입력하세요 (예: x좌표 y좌표 벽): \n",
            "4번 장애물 (x y type): 0 2 벽\n",
            "4번 장애물 (x y type): 0 0 벽\n",
            "4번 장애물 (x y type): 0 0 벽\n",
            "\n",
            "5-4 : 함수 시작\n",
            "5-6 : 위치 추출 완료\n",
            "5-7 : 현재 x,y값 (1, 0)\n",
            "\n",
            "센서 초기화 함수 실행\n",
            "{'앞': 15.0, '왼쪽': 15.0, '오른쪽': 15.0} \n",
            "\n",
            "2-04 : 앞쪽 장애물 검사 시작\n",
            "2-10 : (1, 2) 2칸 앞쪽 장애물 발견\n",
            "2-16 : 앞쪽 스캔 완료, 센서값 2.0\n",
            "\n",
            "3-4 : 왼쪽 장애물 검사 시작\n",
            "3-7 : (0, 0) 1칸 왼쪽 장애물 발견\n",
            "44 : 왼쪽 스캔 완료, 센서값 1.0\n",
            "\n",
            "4-4 : 오른쪽 장애물 검사 시작\n",
            "4-15 : 오른쪽 장애물 없음\n",
            "44 : 오른쪽 스캔 완료, 센서값 15.0\n",
            "\n",
            "5-17 : 센서 업데이트 완료\n",
            "\n",
            "6-4 : 안전거리안에 장애물이 있는 검사하는 함수 실행\n",
            "6-5 : 현재 센서 데이터 {'앞': 2.0, '왼쪽': 1.0, '오른쪽': 15.0}, 설정되있는 안전거리 = 10\n",
            "\n",
            "6-9 : 현재 방향과 거리 체크\n",
            "6-12 : 위험! 목록에 추가\n",
            "\n",
            "6-9 : 현재 방향과 거리 체크\n",
            "6-12 : 위험! 목록에 추가\n",
            "\n",
            "6-9 : 현재 방향과 거리 체크\n",
            "6-14 : 안전\n",
            "\n",
            "6-16 : 장애물 감지 완료\n",
            "\n",
            "앞에 장애물 있음, 좌우 확인\n",
            "오른쪽 안전\n",
            "\n",
            "action : 우회전, (2, 0)\n",
            "------------------------------\n"
          ]
        }
      ]
    },
    {
      "cell_type": "code",
      "source": [
        "if __name__ == '__main__':\n",
        "    print(\"9-3 메인 실행 시작\")\n",
        "    print(\"9-6 자동차 생성\")\n",
        "    car = SimpleCar('현대차', 3, 0, 10)\n",
        "\n",
        "    print(\"9-10 장애물 설정\")\n",
        "\n",
        "    print(\"9-12 장애물 설정 완료\")\n",
        "    print(\"장애물 리스트:\", obstacles)\n",
        "\n",
        "    print(\"9-15 시뮬레이션 호출\")\n",
        "    car.run_simulator(obstacles)\n",
        "\n",
        "    print(\"9-18 프로그램 종료\")"
      ],
      "metadata": {
        "colab": {
          "base_uri": "https://localhost:8080/"
        },
        "id": "o-QTKprZtqHV",
        "outputId": "647ece35-f91d-45bb-9b59-4fcc14cfe953"
      },
      "execution_count": 259,
      "outputs": [
        {
          "output_type": "stream",
          "name": "stdout",
          "text": [
            "9-3 메인 실행 시작\n",
            "9-6 자동차 생성\n",
            "9-10 장애물 설정\n",
            "9-12 장애물 설정 완료\n",
            "장애물 리스트: ['앞', '왼쪽', '오른쪽']\n",
            "9-15 시뮬레이션 호출\n",
            "장애물 정보를 입력하세요 (예: x좌표 y좌표 벽): \n",
            "2번 장애물 (x y type): 3 2 벽\n",
            "2번 장애물 (x y type): 3 3 벽\n",
            "2번 장애물 (x y type): 2 4 벽\n",
            "\n",
            "5-4 : 함수 시작\n",
            "5-6 : 위치 추출 완료\n",
            "5-7 : 현재 x,y값 (3, 0)\n",
            "\n",
            "센서 초기화 함수 실행\n",
            "{'앞': 15.0, '왼쪽': 15.0, '오른쪽': 15.0} \n",
            "\n",
            "2-04 : 앞쪽 장애물 검사 시작\n",
            "2-10 : (3, 2) 2칸 앞쪽 장애물 발견\n",
            "2-16 : 앞쪽 스캔 완료, 센서값 2.0\n",
            "\n",
            "3-4 : 왼쪽 장애물 검사 시작\n",
            "3-7 : (2, 0) 1칸 왼쪽 장애물 발견\n",
            "44 : 왼쪽 스캔 완료, 센서값 1.0\n",
            "\n",
            "4-4 : 오른쪽 장애물 검사 시작\n",
            "4-15 : 오른쪽 장애물 없음\n",
            "44 : 오른쪽 스캔 완료, 센서값 15.0\n",
            "\n",
            "5-17 : 센서 업데이트 완료\n",
            "\n",
            "6-4 : 안전거리안에 장애물이 있는 검사하는 함수 실행\n",
            "6-5 : 현재 센서 데이터 {'앞': 2.0, '왼쪽': 1.0, '오른쪽': 15.0}, 설정되있는 안전거리 = 10\n",
            "\n",
            "6-9 : 현재 방향과 거리 체크\n",
            "6-12 : 위험! 목록에 추가\n",
            "\n",
            "6-9 : 현재 방향과 거리 체크\n",
            "6-12 : 위험! 목록에 추가\n",
            "\n",
            "6-9 : 현재 방향과 거리 체크\n",
            "6-14 : 안전\n",
            "\n",
            "6-16 : 장애물 감지 완료\n",
            "\n",
            "앞에 장애물 있음, 좌우 확인\n",
            "오른쪽 안전\n",
            "\n",
            "action : 우회전, (4, 0)\n",
            "------------------------------\n",
            "장애물 정보를 입력하세요 (예: x좌표 y좌표 벽): \n",
            "3번 장애물 (x y type): 4 5 벽\n",
            "3번 장애물 (x y type): 0 0 벽\n",
            "3번 장애물 (x y type): 0 0 벽\n",
            "\n",
            "5-4 : 함수 시작\n",
            "5-6 : 위치 추출 완료\n",
            "5-7 : 현재 x,y값 (4, 0)\n",
            "\n",
            "센서 초기화 함수 실행\n",
            "{'앞': 15.0, '왼쪽': 15.0, '오른쪽': 15.0} \n",
            "\n",
            "2-04 : 앞쪽 장애물 검사 시작\n",
            "2-15 : 앞쪽 장애물 없음\n",
            "2-16 : 앞쪽 스캔 완료, 센서값 15.0\n",
            "\n",
            "3-4 : 왼쪽 장애물 검사 시작\n",
            "3-15 : 왼쪽 장애물 없음\n",
            "44 : 왼쪽 스캔 완료, 센서값 15.0\n",
            "\n",
            "4-4 : 오른쪽 장애물 검사 시작\n",
            "4-15 : 오른쪽 장애물 없음\n",
            "44 : 오른쪽 스캔 완료, 센서값 15.0\n",
            "\n",
            "5-17 : 센서 업데이트 완료\n",
            "\n",
            "6-4 : 안전거리안에 장애물이 있는 검사하는 함수 실행\n",
            "6-5 : 현재 센서 데이터 {'앞': 15.0, '왼쪽': 15.0, '오른쪽': 15.0}, 설정되있는 안전거리 = 10\n",
            "\n",
            "6-9 : 현재 방향과 거리 체크\n",
            "6-14 : 안전\n",
            "\n",
            "6-9 : 현재 방향과 거리 체크\n",
            "6-14 : 안전\n",
            "\n",
            "6-9 : 현재 방향과 거리 체크\n",
            "6-14 : 안전\n",
            "\n",
            "6-16 : 장애물 감지 완료\n",
            "\n",
            "장애물 없음\n",
            "\n",
            "action : 직진, (4, 1)\n",
            "------------------------------\n",
            "장애물 정보를 입력하세요 (예: x좌표 y좌표 벽): \n",
            "4번 장애물 (x y type): -5 0 벽\n",
            "4번 장애물 (x y type): 0 0 벽\n",
            "4번 장애물 (x y type): 0 0 벽\n",
            "\n",
            "5-4 : 함수 시작\n",
            "5-6 : 위치 추출 완료\n",
            "5-7 : 현재 x,y값 (4, 1)\n",
            "\n",
            "센서 초기화 함수 실행\n",
            "{'앞': 15.0, '왼쪽': 15.0, '오른쪽': 15.0} \n",
            "\n",
            "2-04 : 앞쪽 장애물 검사 시작\n",
            "2-15 : 앞쪽 장애물 없음\n",
            "2-16 : 앞쪽 스캔 완료, 센서값 15.0\n",
            "\n",
            "3-4 : 왼쪽 장애물 검사 시작\n",
            "3-15 : 왼쪽 장애물 없음\n",
            "44 : 왼쪽 스캔 완료, 센서값 15.0\n",
            "\n",
            "4-4 : 오른쪽 장애물 검사 시작\n",
            "4-15 : 오른쪽 장애물 없음\n",
            "44 : 오른쪽 스캔 완료, 센서값 15.0\n",
            "\n",
            "5-17 : 센서 업데이트 완료\n",
            "\n",
            "6-4 : 안전거리안에 장애물이 있는 검사하는 함수 실행\n",
            "6-5 : 현재 센서 데이터 {'앞': 15.0, '왼쪽': 15.0, '오른쪽': 15.0}, 설정되있는 안전거리 = 10\n",
            "\n",
            "6-9 : 현재 방향과 거리 체크\n",
            "6-14 : 안전\n",
            "\n",
            "6-9 : 현재 방향과 거리 체크\n",
            "6-14 : 안전\n",
            "\n",
            "6-9 : 현재 방향과 거리 체크\n",
            "6-14 : 안전\n",
            "\n",
            "6-16 : 장애물 감지 완료\n",
            "\n",
            "장애물 없음\n",
            "\n",
            "action : 직진, (4, 2)\n",
            "------------------------------\n",
            "9-18 프로그램 종료\n"
          ]
        }
      ]
    }
  ]
}