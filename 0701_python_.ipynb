{
  "nbformat": 4,
  "nbformat_minor": 0,
  "metadata": {
    "colab": {
      "provenance": [],
      "authorship_tag": "ABX9TyOHnpqwQd+IHhiIlq97Na7a",
      "include_colab_link": true
    },
    "kernelspec": {
      "name": "python3",
      "display_name": "Python 3"
    },
    "language_info": {
      "name": "python"
    }
  },
  "cells": [
    {
      "cell_type": "markdown",
      "metadata": {
        "id": "view-in-github",
        "colab_type": "text"
      },
      "source": [
        "<a href=\"https://colab.research.google.com/github/audalsgh/20250701/blob/main/0701_python_.ipynb\" target=\"_parent\"><img src=\"https://colab.research.google.com/assets/colab-badge.svg\" alt=\"Open In Colab\"/></a>"
      ]
    },
    {
      "cell_type": "markdown",
      "source": [
        "문제1. 센서 초기화 함수"
      ],
      "metadata": {
        "id": "zn5gKJ1YhE74"
      }
    },
    {
      "cell_type": "code",
      "execution_count": 223,
      "metadata": {
        "colab": {
          "base_uri": "https://localhost:8080/"
        },
        "id": "jesTo3gISlMf",
        "outputId": "947ac3a0-15d7-4f3b-9bd8-446099a58208"
      },
      "outputs": [
        {
          "output_type": "stream",
          "name": "stdout",
          "text": [
            "센서 초기화 함수 실행\n",
            "{'앞': 15.0, '왼쪽': 15.0, '오른쪽': 15.0} \n",
            "\n"
          ]
        },
        {
          "output_type": "execute_result",
          "data": {
            "text/plain": [
              "{'앞': 15.0, '왼쪽': 15.0, '오른쪽': 15.0}"
            ]
          },
          "metadata": {},
          "execution_count": 223
        }
      ],
      "source": [
        "def init_sensors():\n",
        "  sensors = { '앞' : 15.0, '왼쪽' : 15.0, '오른쪽' : 15.0 }\n",
        "  print(\"센서 초기화 함수 실행\")\n",
        "  print(sensors, \"\\n\")\n",
        "  return sensors\n",
        "\n",
        "init_sensors()"
      ]
    },
    {
      "cell_type": "markdown",
      "source": [
        "문제2. 앞쪽 장애물 스캔 함수"
      ],
      "metadata": {
        "id": "bUC4LsEAhG6a"
      }
    },
    {
      "cell_type": "code",
      "source": [
        "# 장애물은 y좌표만 달라진다고 가정\n",
        "obstacles = [ {'x':0, 'y':0, 'type':'벽'},\n",
        "              {'x':0, 'y':1, 'type':'사람'},\n",
        "              {'x':0, 'y':2, 'type':'상자'} ]\n",
        "\n",
        "sensors = { '앞' : 15.0, '왼쪽' : 15.0, '오른쪽' : 15.0 }\n",
        "\n",
        "def scan_front(x,y,obstacles,sensors):\n",
        "  print(\"2-04 : 앞쪽 장애물 검사 시작\")\n",
        "\n",
        "  # 리스트안의 딕셔너리를 다시 리스트로 꺼내오고, 딕셔너리끼리 좌표비교함.\n",
        "  if  {'y':y+1} in [{'y':o['y']} for o in obstacles]:\n",
        "    print(f\"2-06 : {x,y+1} 1칸 앞쪽 장애물 발견\")\n",
        "    sensors['앞'] = 1.0\n",
        "  elif {'y':y+2} in [{'y':o['y']} for o in obstacles]:\n",
        "    print(f\"2-10 : {x,y+2} 2칸 앞쪽 장애물 발견\")\n",
        "    sensors['앞'] = 2.0\n",
        "  elif {'y':y+3} in [{'y':o['y']} for o in obstacles]:\n",
        "    print(f\"2-13 : {x,y+3} 3칸 앞쪽 장애물 발견\")\n",
        "    sensors['앞'] = 3.0\n",
        "  else:\n",
        "    print(\"2-15 : 앞쪽 장애물 없음\")\n",
        "    sensors['앞'] = 15.0\n",
        "\n",
        "  print(f\"2-16 : 앞쪽 스캔 완료, 센서값 {sensors['앞']}\\n\")\n",
        "\n",
        "scan_front(0,0,obstacles,sensors)"
      ],
      "metadata": {
        "colab": {
          "base_uri": "https://localhost:8080/"
        },
        "id": "D1pGRpUUYjn5",
        "outputId": "f15fc545-c2d9-4fff-f838-bd967a6b6563"
      },
      "execution_count": 224,
      "outputs": [
        {
          "output_type": "stream",
          "name": "stdout",
          "text": [
            "2-04 : 앞쪽 장애물 검사 시작\n",
            "2-06 : (0, 1) 1칸 앞쪽 장애물 발견\n",
            "2-16 : 앞쪽 스캔 완료, 센서값 1.0\n",
            "\n"
          ]
        }
      ]
    },
    {
      "cell_type": "markdown",
      "source": [
        "문제3. 왼쪽 장애물 스캔 함수\n"
      ],
      "metadata": {
        "id": "KCzgoyD9hN1m"
      }
    },
    {
      "cell_type": "code",
      "source": [
        "#장애물은 x좌표만 달라진다고 가정\n",
        "obstacles = [ {'x':-1, 'y':0, 'type':'벽'},\n",
        "              {'x':-2, 'y':0, 'type':'사람'},\n",
        "              {'x':-3, 'y':0, 'type':'상자'} ]\n",
        "\n",
        "sensors = { '앞' : 15.0, '왼쪽' : 15.0, '오른쪽' : 15.0 }\n",
        "\n",
        "def scan_left(x,y,obstacles,sensors):\n",
        "  print(\"3-4 : 왼쪽 장애물 검사 시작\")\n",
        "\n",
        "  # 리스트안의 딕셔너리를 다시 리스트로 꺼내오고, 딕셔너리끼리 좌표비교함.\n",
        "  if {'x':x-1} in [{'x':o['x']} for o in obstacles]:\n",
        "    print(f\"3-7 : {x-1,y} 1칸 왼쪽 장애물 발견\")\n",
        "    sensors['왼쪽'] = 1.0\n",
        "  elif {'x':x-2} in [{'x':o['x']} for o in obstacles]:\n",
        "    print(f\"3-10 : {x-2,y} 2칸 왼쪽 장애물 발견\")\n",
        "    sensors['왼쪽'] = 2.0\n",
        "  elif {'x':x-3} in [{'x':o['x']} for o in obstacles]:\n",
        "    print(f\"3-13 : {x-3,y} 3칸 왼쪽 장애물 발견\")\n",
        "    sensors['왼쪽'] = 3.0\n",
        "  else:\n",
        "    print(\"3-15 : 왼쪽 장애물 없음\")\n",
        "    sensors['왼쪽'] = 15.0\n",
        "\n",
        "  print(f\"44 : 왼쪽 스캔 완료, 센서값 {sensors['왼쪽']}\\n\")\n",
        "\n",
        "scan_left(0,0,obstacles,sensors)"
      ],
      "metadata": {
        "colab": {
          "base_uri": "https://localhost:8080/"
        },
        "id": "-FLfQdVAfp45",
        "outputId": "6d57ac94-e000-42b5-ffe2-11ce9aabdeff"
      },
      "execution_count": 225,
      "outputs": [
        {
          "output_type": "stream",
          "name": "stdout",
          "text": [
            "3-4 : 왼쪽 장애물 검사 시작\n",
            "3-7 : (-1, 0) 1칸 왼쪽 장애물 발견\n",
            "44 : 왼쪽 스캔 완료, 센서값 1.0\n",
            "\n"
          ]
        }
      ]
    },
    {
      "cell_type": "markdown",
      "source": [
        "문제4. 오른쪽 장애물 스캔 함수"
      ],
      "metadata": {
        "id": "GMHxsbzKm6Zh"
      }
    },
    {
      "cell_type": "code",
      "source": [
        "#장애물은 x좌표만 달라진다고 가정\n",
        "obstacles = [ {'x':2, 'y':0, 'type':'벽'},\n",
        "              {'x':3, 'y':0, 'type':'사람'},\n",
        "              {'x':4, 'y':0, 'type':'상자'} ]\n",
        "\n",
        "sensors = { '앞' : 15.0, '왼쪽' : 15.0, '오른쪽' : 15.0 }\n",
        "\n",
        "def scan_right(x,y,obstacles,sensors):\n",
        "  print(\"4-4 : 오른쪽 장애물 검사 시작\")\n",
        "\n",
        "  # 리스트안의 딕셔너리를 다시 리스트로 꺼내오고, 딕셔너리끼리 좌표비교함.\n",
        "  if {'x': x+1} in [{'x': o['x']} for o in obstacles]:\n",
        "    print(f\"4-7 : {x+1,y} 1칸 오른쪽 장애물 발견\")\n",
        "    sensors['오른쪽'] = 1.0\n",
        "  elif {'x':x+2} in [{'x':o['x']} for o in obstacles]:\n",
        "    print(f\"4-10 : {x+2,y} 2칸 오른쪽 장애물 발견\")\n",
        "    sensors['오른쪽'] = 2.0\n",
        "  elif {'x':x+3} in [{'x':o['x']} for o in obstacles]:\n",
        "    print(f\"4-13 : {x+3,y} 3칸 오른쪽 장애물 발견\")\n",
        "    sensors['오른쪽'] = 3.0\n",
        "  else:\n",
        "    print(\"4-15 : 오른쪽 장애물 없음\")\n",
        "    sensors['오른쪽'] = 15.0\n",
        "\n",
        "  print(f\"44 : 오른쪽 스캔 완료, 센서값 {sensors['오른쪽']}\\n\")\n",
        "\n",
        "scan_right(0,0,obstacles,sensors)"
      ],
      "metadata": {
        "colab": {
          "base_uri": "https://localhost:8080/"
        },
        "id": "erS6oKwDm9Nd",
        "outputId": "b5b7a22e-b46d-4259-fb99-9f62bcdae8e6"
      },
      "execution_count": 226,
      "outputs": [
        {
          "output_type": "stream",
          "name": "stdout",
          "text": [
            "4-4 : 오른쪽 장애물 검사 시작\n",
            "4-10 : (2, 0) 2칸 오른쪽 장애물 발견\n",
            "44 : 오른쪽 스캔 완료, 센서값 2.0\n",
            "\n"
          ]
        }
      ]
    },
    {
      "cell_type": "markdown",
      "source": [
        "문제5. 앞서 정의한 함수들을 통해, 센서 데이터를 업데이트하는 함수"
      ],
      "metadata": {
        "id": "WXXrBu45o-Iw"
      }
    },
    {
      "cell_type": "code",
      "source": [
        "position = {'x':0, 'y':0 }\n",
        "\n",
        "obstacles = [ {'x':0, 'y':5, 'type':'벽'},\n",
        "              {'x':3, 'y':3, 'type':'사람'},\n",
        "              {'x':-1, 'y':2, 'type':'상자'} ]\n",
        "\n",
        "def update_sensor_data(position, obstacles):\n",
        "  print(f\"5-4 : 함수 시작\")\n",
        "\n",
        "  x = position['x']\n",
        "  y = position['y']\n",
        "  print(f\"5-6 : 위치 추출 완료\")\n",
        "  print(f\"5-7 : 현재 x,y값 {x,y}\\n\")\n",
        "\n",
        "  sensors = init_sensors()\n",
        "  scan_front(x,y,obstacles,sensors)\n",
        "  scan_left(x,y,obstacles,sensors)\n",
        "  scan_right(x,y,obstacles,sensors)\n",
        "\n",
        "  print(\"5-17 : 센서 업데이트 완료\")\n",
        "  return sensors\n",
        "\n",
        "sensors = update_sensor_data(position, obstacles)"
      ],
      "metadata": {
        "colab": {
          "base_uri": "https://localhost:8080/"
        },
        "id": "5GesTkdfo9pq",
        "outputId": "c49f6db3-ce74-41f9-ec84-317f0c9b49d0"
      },
      "execution_count": 227,
      "outputs": [
        {
          "output_type": "stream",
          "name": "stdout",
          "text": [
            "5-4 : 함수 시작\n",
            "5-6 : 위치 추출 완료\n",
            "5-7 : 현재 x,y값 (0, 0)\n",
            "\n",
            "센서 초기화 함수 실행\n",
            "{'앞': 15.0, '왼쪽': 15.0, '오른쪽': 15.0} \n",
            "\n",
            "2-04 : 앞쪽 장애물 검사 시작\n",
            "2-10 : (0, 2) 2칸 앞쪽 장애물 발견\n",
            "2-16 : 앞쪽 스캔 완료, 센서값 2.0\n",
            "\n",
            "3-4 : 왼쪽 장애물 검사 시작\n",
            "3-7 : (-1, 0) 1칸 왼쪽 장애물 발견\n",
            "44 : 왼쪽 스캔 완료, 센서값 1.0\n",
            "\n",
            "4-4 : 오른쪽 장애물 검사 시작\n",
            "4-13 : (3, 0) 3칸 오른쪽 장애물 발견\n",
            "44 : 오른쪽 스캔 완료, 센서값 3.0\n",
            "\n",
            "5-17 : 센서 업데이트 완료\n"
          ]
        }
      ]
    },
    {
      "cell_type": "markdown",
      "source": [
        "문제6. 장애물이 안전거리에 있는지 검사하는 함수\n"
      ],
      "metadata": {
        "id": "Q8I78GWZyLXg"
      }
    },
    {
      "cell_type": "code",
      "source": [
        "def detect_obstacles(sensors, safe_distance):\n",
        "  print(\"6-4 : 안전거리안에 장애물이 있는 검사하는 함수 실행\")\n",
        "  print(f\"6-5 : 현재 센서 데이터 {sensors}, 설정되있는 안전거리 = {safe_distance}\")\n",
        "\n",
        "  obstacles = []\n",
        "  for direction, distance in sensors.items():\n",
        "    print(\"6-9 : 현재 방향과 거리 체크\")\n",
        "    if distance < safe_distance:\n",
        "      obstacles.append(direction)\n",
        "      print(\"6-12 : 위험! 목록에 추가\\n\")\n",
        "    else:\n",
        "      print(\"6-14 : 안전\\n\")\n",
        "\n",
        "  print(\"6-16 : 장애물 감지 완료\")\n",
        "  return obstacles\n",
        "\n",
        "obstacles = detect_obstacles(sensors,10)\n",
        "print(obstacles)"
      ],
      "metadata": {
        "colab": {
          "base_uri": "https://localhost:8080/"
        },
        "id": "poBCiErJyUds",
        "outputId": "18e64be3-8468-4898-ab24-8c62dbd09ca7"
      },
      "execution_count": 228,
      "outputs": [
        {
          "output_type": "stream",
          "name": "stdout",
          "text": [
            "6-4 : 안전거리안에 장애물이 있는 검사하는 함수 실행\n",
            "6-5 : 현재 센서 데이터 {'앞': 2.0, '왼쪽': 1.0, '오른쪽': 3.0}, 설정되있는 안전거리 = 10\n",
            "6-9 : 현재 방향과 거리 체크\n",
            "6-12 : 위험! 목록에 추가\n",
            "\n",
            "6-9 : 현재 방향과 거리 체크\n",
            "6-12 : 위험! 목록에 추가\n",
            "\n",
            "6-9 : 현재 방향과 거리 체크\n",
            "6-12 : 위험! 목록에 추가\n",
            "\n",
            "6-16 : 장애물 감지 완료\n",
            "['앞', '왼쪽', '오른쪽']\n"
          ]
        }
      ]
    },
    {
      "cell_type": "markdown",
      "source": [
        "문제7. 장애물 정보를 입력받아 직진,우회전,좌회전을 결정하는 함수"
      ],
      "metadata": {
        "id": "HUNgyTfE2JGN"
      }
    },
    {
      "cell_type": "code",
      "source": [
        "def decide_action(obstacles):\n",
        "  if len(obstacles) == 0:\n",
        "    action = '직진'\n",
        "    print(\"장애물 없음\")\n",
        "  elif ('앞' not in obstacles):\n",
        "    action = '주의해서 직진'\n",
        "    print(\"앞은 안전, 옆만 위험\")\n",
        "  elif ('앞' in obstacles):\n",
        "    print(\"앞에 장애물 있음, 좌우 확인\")\n",
        "    if ('왼쪽' not in obstacles):\n",
        "      action = '좌회전'\n",
        "      print(\"왼쪽 안전\")\n",
        "    elif ('오른쪽' not in obstacles):\n",
        "      action = '우회전'\n",
        "      print(\"오른쪽 안전\")\n",
        "    else:\n",
        "      action = '정지'\n",
        "      print(\"모든 방향 위험\")\n",
        "\n",
        "  return action\n",
        "\n",
        "action = decide_action(obstacles)"
      ],
      "metadata": {
        "colab": {
          "base_uri": "https://localhost:8080/"
        },
        "id": "l2_FR-E42PBb",
        "outputId": "5ad466a3-11c9-48a7-fa8b-84a525fa47a7"
      },
      "execution_count": 229,
      "outputs": [
        {
          "output_type": "stream",
          "name": "stdout",
          "text": [
            "앞에 장애물 있음, 좌우 확인\n",
            "모든 방향 위험\n"
          ]
        }
      ]
    },
    {
      "cell_type": "markdown",
      "source": [
        "문제8. 클래스로 초기화, 행동결정까지 하고 시뮬레이션해보는 문제"
      ],
      "metadata": {
        "id": "5J8oqDNC4GuS"
      }
    },
    {
      "cell_type": "code",
      "source": [
        "class SimpleCar():\n",
        "  def __init__(self,name,x,y,safe_distance):\n",
        "    self.name = name\n",
        "    self.x = x\n",
        "    self.y = y\n",
        "    self.safe_distance = safe_distance\n",
        "\n",
        "  def excute_action(self, action):\n",
        "    if action == '직진':\n",
        "      self.y += 1\n",
        "    elif action == '좌회전':\n",
        "      self.x -= 1\n",
        "    elif action == '우회전':\n",
        "      self.x += 1\n",
        "    elif action == '정지':\n",
        "      print(\"현재 위치 유지\")\n",
        "\n",
        "  def run_simulator(self, obstacles):\n",
        "    i = 1\n",
        "    while(i):\n",
        "      update_sensor_data(position, obstacles)\n",
        "      detect_obstacles(sensors,10)\n",
        "      decide_action(obstacles)\n",
        "      excute_action(action)\n",
        "      i += 1\n",
        "      if i == 10:\n",
        "        break\n",
        "\n",
        "car1 = SimpleCar('porsche',0,0,10)\n",
        "car1.run_simulator(obstacles)"
      ],
      "metadata": {
        "colab": {
          "base_uri": "https://localhost:8080/",
          "height": 483
        },
        "id": "91dWRLoM4QQV",
        "outputId": "4e8bca08-0967-462e-aac7-7f4102f6cd87"
      },
      "execution_count": 230,
      "outputs": [
        {
          "output_type": "stream",
          "name": "stdout",
          "text": [
            "5-4 : 함수 시작\n",
            "5-6 : 위치 추출 완료\n",
            "5-7 : 현재 x,y값 (0, 0)\n",
            "\n",
            "센서 초기화 함수 실행\n",
            "{'앞': 15.0, '왼쪽': 15.0, '오른쪽': 15.0} \n",
            "\n",
            "2-04 : 앞쪽 장애물 검사 시작\n"
          ]
        },
        {
          "output_type": "error",
          "ename": "TypeError",
          "evalue": "string indices must be integers, not 'str'",
          "traceback": [
            "\u001b[0;31m---------------------------------------------------------------------------\u001b[0m",
            "\u001b[0;31mTypeError\u001b[0m                                 Traceback (most recent call last)",
            "\u001b[0;32m/tmp/ipython-input-230-2176641106.py\u001b[0m in \u001b[0;36m<cell line: 0>\u001b[0;34m()\u001b[0m\n\u001b[1;32m     28\u001b[0m \u001b[0;34m\u001b[0m\u001b[0m\n\u001b[1;32m     29\u001b[0m \u001b[0mcar1\u001b[0m \u001b[0;34m=\u001b[0m \u001b[0mSimpleCar\u001b[0m\u001b[0;34m(\u001b[0m\u001b[0;34m'porsche'\u001b[0m\u001b[0;34m,\u001b[0m\u001b[0;36m0\u001b[0m\u001b[0;34m,\u001b[0m\u001b[0;36m0\u001b[0m\u001b[0;34m,\u001b[0m\u001b[0;36m10\u001b[0m\u001b[0;34m)\u001b[0m\u001b[0;34m\u001b[0m\u001b[0;34m\u001b[0m\u001b[0m\n\u001b[0;32m---> 30\u001b[0;31m \u001b[0mcar1\u001b[0m\u001b[0;34m.\u001b[0m\u001b[0mrun_simulator\u001b[0m\u001b[0;34m(\u001b[0m\u001b[0mobstacles\u001b[0m\u001b[0;34m)\u001b[0m\u001b[0;34m\u001b[0m\u001b[0;34m\u001b[0m\u001b[0m\n\u001b[0m",
            "\u001b[0;32m/tmp/ipython-input-230-2176641106.py\u001b[0m in \u001b[0;36mrun_simulator\u001b[0;34m(self, obstacles)\u001b[0m\n\u001b[1;32m     19\u001b[0m     \u001b[0mi\u001b[0m \u001b[0;34m=\u001b[0m \u001b[0;36m1\u001b[0m\u001b[0;34m\u001b[0m\u001b[0;34m\u001b[0m\u001b[0m\n\u001b[1;32m     20\u001b[0m     \u001b[0;32mwhile\u001b[0m\u001b[0;34m(\u001b[0m\u001b[0mi\u001b[0m\u001b[0;34m)\u001b[0m\u001b[0;34m:\u001b[0m\u001b[0;34m\u001b[0m\u001b[0;34m\u001b[0m\u001b[0m\n\u001b[0;32m---> 21\u001b[0;31m       \u001b[0mupdate_sensor_data\u001b[0m\u001b[0;34m(\u001b[0m\u001b[0mposition\u001b[0m\u001b[0;34m,\u001b[0m \u001b[0mobstacles\u001b[0m\u001b[0;34m)\u001b[0m\u001b[0;34m\u001b[0m\u001b[0;34m\u001b[0m\u001b[0m\n\u001b[0m\u001b[1;32m     22\u001b[0m       \u001b[0mdetect_obstacles\u001b[0m\u001b[0;34m(\u001b[0m\u001b[0msensors\u001b[0m\u001b[0;34m,\u001b[0m\u001b[0;36m10\u001b[0m\u001b[0;34m)\u001b[0m\u001b[0;34m\u001b[0m\u001b[0;34m\u001b[0m\u001b[0m\n\u001b[1;32m     23\u001b[0m       \u001b[0mdecide_action\u001b[0m\u001b[0;34m(\u001b[0m\u001b[0mobstacles\u001b[0m\u001b[0;34m)\u001b[0m\u001b[0;34m\u001b[0m\u001b[0;34m\u001b[0m\u001b[0m\n",
            "\u001b[0;32m/tmp/ipython-input-227-3095421122.py\u001b[0m in \u001b[0;36mupdate_sensor_data\u001b[0;34m(position, obstacles)\u001b[0m\n\u001b[1;32m     14\u001b[0m \u001b[0;34m\u001b[0m\u001b[0m\n\u001b[1;32m     15\u001b[0m   \u001b[0msensors\u001b[0m \u001b[0;34m=\u001b[0m \u001b[0minit_sensors\u001b[0m\u001b[0;34m(\u001b[0m\u001b[0;34m)\u001b[0m\u001b[0;34m\u001b[0m\u001b[0;34m\u001b[0m\u001b[0m\n\u001b[0;32m---> 16\u001b[0;31m   \u001b[0mscan_front\u001b[0m\u001b[0;34m(\u001b[0m\u001b[0mx\u001b[0m\u001b[0;34m,\u001b[0m\u001b[0my\u001b[0m\u001b[0;34m,\u001b[0m\u001b[0mobstacles\u001b[0m\u001b[0;34m,\u001b[0m\u001b[0msensors\u001b[0m\u001b[0;34m)\u001b[0m\u001b[0;34m\u001b[0m\u001b[0;34m\u001b[0m\u001b[0m\n\u001b[0m\u001b[1;32m     17\u001b[0m   \u001b[0mscan_left\u001b[0m\u001b[0;34m(\u001b[0m\u001b[0mx\u001b[0m\u001b[0;34m,\u001b[0m\u001b[0my\u001b[0m\u001b[0;34m,\u001b[0m\u001b[0mobstacles\u001b[0m\u001b[0;34m,\u001b[0m\u001b[0msensors\u001b[0m\u001b[0;34m)\u001b[0m\u001b[0;34m\u001b[0m\u001b[0;34m\u001b[0m\u001b[0m\n\u001b[1;32m     18\u001b[0m   \u001b[0mscan_right\u001b[0m\u001b[0;34m(\u001b[0m\u001b[0mx\u001b[0m\u001b[0;34m,\u001b[0m\u001b[0my\u001b[0m\u001b[0;34m,\u001b[0m\u001b[0mobstacles\u001b[0m\u001b[0;34m,\u001b[0m\u001b[0msensors\u001b[0m\u001b[0;34m)\u001b[0m\u001b[0;34m\u001b[0m\u001b[0;34m\u001b[0m\u001b[0m\n",
            "\u001b[0;32m/tmp/ipython-input-224-161618114.py\u001b[0m in \u001b[0;36mscan_front\u001b[0;34m(x, y, obstacles, sensors)\u001b[0m\n\u001b[1;32m     10\u001b[0m \u001b[0;34m\u001b[0m\u001b[0m\n\u001b[1;32m     11\u001b[0m   \u001b[0;31m# 리스트안의 딕셔너리를 다시 리스트로 꺼내오고, 딕셔너리끼리 좌표비교함.\u001b[0m\u001b[0;34m\u001b[0m\u001b[0;34m\u001b[0m\u001b[0m\n\u001b[0;32m---> 12\u001b[0;31m   \u001b[0;32mif\u001b[0m  \u001b[0;34m{\u001b[0m\u001b[0;34m'y'\u001b[0m\u001b[0;34m:\u001b[0m\u001b[0my\u001b[0m\u001b[0;34m+\u001b[0m\u001b[0;36m1\u001b[0m\u001b[0;34m}\u001b[0m \u001b[0;32min\u001b[0m \u001b[0;34m[\u001b[0m\u001b[0;34m{\u001b[0m\u001b[0;34m'y'\u001b[0m\u001b[0;34m:\u001b[0m\u001b[0mo\u001b[0m\u001b[0;34m[\u001b[0m\u001b[0;34m'y'\u001b[0m\u001b[0;34m]\u001b[0m\u001b[0;34m}\u001b[0m \u001b[0;32mfor\u001b[0m \u001b[0mo\u001b[0m \u001b[0;32min\u001b[0m \u001b[0mobstacles\u001b[0m\u001b[0;34m]\u001b[0m\u001b[0;34m:\u001b[0m\u001b[0;34m\u001b[0m\u001b[0;34m\u001b[0m\u001b[0m\n\u001b[0m\u001b[1;32m     13\u001b[0m     \u001b[0mprint\u001b[0m\u001b[0;34m(\u001b[0m\u001b[0;34mf\"2-06 : {x,y+1} 1칸 앞쪽 장애물 발견\"\u001b[0m\u001b[0;34m)\u001b[0m\u001b[0;34m\u001b[0m\u001b[0;34m\u001b[0m\u001b[0m\n\u001b[1;32m     14\u001b[0m     \u001b[0msensors\u001b[0m\u001b[0;34m[\u001b[0m\u001b[0;34m'앞'\u001b[0m\u001b[0;34m]\u001b[0m \u001b[0;34m=\u001b[0m \u001b[0;36m1.0\u001b[0m\u001b[0;34m\u001b[0m\u001b[0;34m\u001b[0m\u001b[0m\n",
            "\u001b[0;32m/tmp/ipython-input-224-161618114.py\u001b[0m in \u001b[0;36m<listcomp>\u001b[0;34m(.0)\u001b[0m\n\u001b[1;32m     10\u001b[0m \u001b[0;34m\u001b[0m\u001b[0m\n\u001b[1;32m     11\u001b[0m   \u001b[0;31m# 리스트안의 딕셔너리를 다시 리스트로 꺼내오고, 딕셔너리끼리 좌표비교함.\u001b[0m\u001b[0;34m\u001b[0m\u001b[0;34m\u001b[0m\u001b[0m\n\u001b[0;32m---> 12\u001b[0;31m   \u001b[0;32mif\u001b[0m  \u001b[0;34m{\u001b[0m\u001b[0;34m'y'\u001b[0m\u001b[0;34m:\u001b[0m\u001b[0my\u001b[0m\u001b[0;34m+\u001b[0m\u001b[0;36m1\u001b[0m\u001b[0;34m}\u001b[0m \u001b[0;32min\u001b[0m \u001b[0;34m[\u001b[0m\u001b[0;34m{\u001b[0m\u001b[0;34m'y'\u001b[0m\u001b[0;34m:\u001b[0m\u001b[0mo\u001b[0m\u001b[0;34m[\u001b[0m\u001b[0;34m'y'\u001b[0m\u001b[0;34m]\u001b[0m\u001b[0;34m}\u001b[0m \u001b[0;32mfor\u001b[0m \u001b[0mo\u001b[0m \u001b[0;32min\u001b[0m \u001b[0mobstacles\u001b[0m\u001b[0;34m]\u001b[0m\u001b[0;34m:\u001b[0m\u001b[0;34m\u001b[0m\u001b[0;34m\u001b[0m\u001b[0m\n\u001b[0m\u001b[1;32m     13\u001b[0m     \u001b[0mprint\u001b[0m\u001b[0;34m(\u001b[0m\u001b[0;34mf\"2-06 : {x,y+1} 1칸 앞쪽 장애물 발견\"\u001b[0m\u001b[0;34m)\u001b[0m\u001b[0;34m\u001b[0m\u001b[0;34m\u001b[0m\u001b[0m\n\u001b[1;32m     14\u001b[0m     \u001b[0msensors\u001b[0m\u001b[0;34m[\u001b[0m\u001b[0;34m'앞'\u001b[0m\u001b[0;34m]\u001b[0m \u001b[0;34m=\u001b[0m \u001b[0;36m1.0\u001b[0m\u001b[0;34m\u001b[0m\u001b[0;34m\u001b[0m\u001b[0m\n",
            "\u001b[0;31mTypeError\u001b[0m: string indices must be integers, not 'str'"
          ]
        }
      ]
    }
  ]
}